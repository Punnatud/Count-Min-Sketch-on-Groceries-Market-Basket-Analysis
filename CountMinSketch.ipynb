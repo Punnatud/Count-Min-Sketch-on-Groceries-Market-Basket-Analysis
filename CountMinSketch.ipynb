{
 "cells": [
  {
   "cell_type": "code",
   "execution_count": 2,
   "id": "05a72058-ff8a-4e18-aacc-47a3bb34bcef",
   "metadata": {},
   "outputs": [],
   "source": [
    "import random\n",
    "import sympy\n",
    "import csv\n"
   ]
  },
  {
   "cell_type": "code",
   "execution_count": 3,
   "id": "42c29045-f9c4-48f7-828d-9f5983221f0e",
   "metadata": {},
   "outputs": [],
   "source": [
    "# Get a random triple (p, a, b) where p is prime and a,b are numbers betweeen 2 and p-1\n",
    "def get_random_hash_function():\n",
    "    n = random.getrandbits(64)\n",
    "    if n < 0: \n",
    "        n = -n \n",
    "    if n % 2 == 0:\n",
    "        n = n + 1\n",
    "    while not sympy.isprime(n):\n",
    "        n = n + 1\n",
    "    a = random.randint(2, n-1)\n",
    "    b = random.randint(2, n-1)\n",
    "    return (n, a, b)\n",
    "# hash function for a number\n",
    "def hashfun(hfun_rep, num):\n",
    "    (p, a, b) = hfun_rep\n",
    "    return (a * num + b) % p\n",
    "# hash function for a string.\n",
    "def hash_string(hfun_rep, hstr):\n",
    "    n = hash(hstr)\n",
    "    return hashfun(hfun_rep, n)"
   ]
  },
  {
   "cell_type": "code",
   "execution_count": 4,
   "id": "def1af19-3471-4779-881a-a8dbd5857fc9",
   "metadata": {},
   "outputs": [],
   "source": [
    "# Class for implementing a count min sketch \"single bank\" of counters\n",
    "class CountMinSketch:\n",
    "    # Initialize with `num_counters`\n",
    "    def __init__ (self, num_counters):\n",
    "        self.m = num_counters\n",
    "        self.hash_fun_rep = get_random_hash_function()\n",
    "        self.counters = [0]*self.m\n",
    "    \n",
    "    # function: increment \n",
    "    # given a word, increment its count in the countmin sketch\n",
    "    def increment(self, word):\n",
    "        #\n",
    "        hWord = hash_string(self.hash_fun_rep, word)%self.m\n",
    "        self.counters[hWord] = self.counters[hWord] + 1\n",
    "        #return None\n",
    "        \n",
    "    # function: approximateCount\n",
    "    # Given a word, get its approximate count\n",
    "    def approximateCount(self, word):   \n",
    "        return self.counters[hash_string(self.hash_fun_rep, word)%self.m]"
   ]
  },
  {
   "cell_type": "code",
   "execution_count": 5,
   "id": "1215f7eb-ba45-453c-908b-743dc217f881",
   "metadata": {},
   "outputs": [],
   "source": [
    "# We will now implement the algorithm for a bank of k counters\n",
    "# Initialize k different counters\n",
    "def initialize_k_counters(k, m): \n",
    "    return [CountMinSketch(m) for i in range(k)]\n",
    "# Function increment_counters\n",
    "# increment each of the individual counters with the word\n",
    "def increment_counters(count_min_sketches, word):\n",
    "    for i in range(len(count_min_sketches)):\n",
    "        count_min_sketches[i].increment(word)\n",
    "    # your code here\n",
    "    \n",
    "        \n",
    "# Function: approximate_count\n",
    "# Get the approximate count by querying each counter bank and taking the minimum\n",
    "def approximate_count(count_min_sketches, word):\n",
    "    return min([cms.approximateCount(word) for cms in count_min_sketches])"
   ]
  },
  {
   "cell_type": "code",
   "execution_count": 6,
   "id": "4bd95cf5-9fb2-4d4d-9905-d5cc802fc35a",
   "metadata": {},
   "outputs": [
    {
     "name": "stdout",
     "output_type": "stream",
     "text": [
      "Total number of rows: 9836\n",
      "\n",
      "First 5 rows are:\n",
      "\n",
      "         4 citrus fruit semi-finished bread  margarine ready soups                                                                                                                                                                                                                                                                                                                     \n",
      "\n",
      "         3 tropical fruit     yogurt     coffee                                                                                                                                                                                                                                                                                                                                \n",
      "\n",
      "         1 whole milk                                                                                                                                                                                                                                                                                                                                                      \n",
      "\n",
      "         4  pip fruit     yogurt cream cheese meat spreads                                                                                                                                                                                                                                                                                                                     \n",
      "\n",
      "         4 other vegetables whole milk condensed milk long life bakery product                                                                                                                                                                                                                                                                                                                     \n",
      "\n"
     ]
    }
   ],
   "source": [
    "#get data stream\n",
    "rows=[]\n",
    "with open(\"./archive/groceries - groceries.csv\", 'r') as f:\n",
    "    csvreader = csv.reader(f)\n",
    "    fields = next(csvreader)\n",
    " \n",
    "    # extracting each data row one by one\n",
    "    for row in csvreader:\n",
    "        rows.append(row)\n",
    " \n",
    "    # get total number of rows\n",
    "    print(\"Total number of rows: %d\"%(csvreader.line_num))\n",
    "\n",
    "\n",
    "# printing first 5 rows\n",
    "print('\\nFirst 5 rows are:\\n')\n",
    "for row in rows[:5]:\n",
    "    # parsing each column of a row\n",
    "    for col in row:\n",
    "        print(\"%10s\"%col,end=\" \"),\n",
    "    print('\\n')"
   ]
  },
  {
   "cell_type": "code",
   "execution_count": 7,
   "id": "65825d64-7fe6-453e-b290-dff1d6f17b97",
   "metadata": {},
   "outputs": [],
   "source": [
    "#init counter\n",
    "cms = initialize_k_counters(20, 55)\n",
    "uniqueItems = {}\n",
    "for row in rows:\n",
    "    for item in row[1:]:\n",
    "        if item != \"\":\n",
    "            uniqueItems.update({item : 0})\n",
    "            increment_counters(cms, item)"
   ]
  },
  {
   "cell_type": "code",
   "execution_count": 8,
   "id": "32039465-6241-4e40-817f-23bd7ee60175",
   "metadata": {},
   "outputs": [
    {
     "name": "stdout",
     "output_type": "stream",
     "text": [
      "Total number of distincts elements 169\n"
     ]
    }
   ],
   "source": [
    "print(\"Total number of distincts elements\",len(uniqueItems))"
   ]
  },
  {
   "cell_type": "code",
   "execution_count": 9,
   "id": "67ec5105-2343-45eb-aa09-edea7919aad5",
   "metadata": {},
   "outputs": [],
   "source": [
    "#get approximate count of each item\n",
    "for item in uniqueItems:\n",
    "    uniqueItems.update({item:approximate_count(cms, item)})\n",
    "sorted_uniqueItems = sorted(uniqueItems.items(), key=lambda x:x[1], reverse=True)"
   ]
  },
  {
   "cell_type": "code",
   "execution_count": 10,
   "id": "4adc236d-7c36-4557-bda9-c09ab2170b23",
   "metadata": {},
   "outputs": [
    {
     "name": "stdout",
     "output_type": "stream",
     "text": [
      "('whole milk', 2513) \n",
      "\n",
      "('other vegetables', 1903) \n",
      "\n",
      "('rolls/buns', 1809) \n",
      "\n",
      "('soda', 1715) \n",
      "\n",
      "('yogurt', 1372) \n",
      "\n",
      "('bottled water', 1117) \n",
      "\n",
      "('tropical fruit', 1073) \n",
      "\n",
      "('root vegetables', 1072) \n",
      "\n",
      "('shopping bags', 1002) \n",
      "\n",
      "('pastry', 932) \n",
      "\n"
     ]
    }
   ],
   "source": [
    "#get top 10 most frequent items\n",
    "for item in sorted_uniqueItems[:10]:\n",
    "    print(item, '\\n')"
   ]
  },
  {
   "cell_type": "code",
   "execution_count": 11,
   "id": "5c619c5d-962c-4387-8d3d-7388d63d0916",
   "metadata": {},
   "outputs": [],
   "source": [
    "singleItems = {}\n",
    "scms = initialize_k_counters(20, 55)\n",
    "for row in rows:\n",
    " for item in row[1:]:\n",
    "            if item != \"\" and row[:1] == ['1']:\n",
    "                singleItems.update({item : 0})\n",
    "                increment_counters(scms, item)"
   ]
  },
  {
   "cell_type": "code",
   "execution_count": 12,
   "id": "f15aca30-034d-40cf-a289-4528c4b01cce",
   "metadata": {},
   "outputs": [],
   "source": [
    "for item in singleItems:\n",
    "    singleItems.update({item:approximate_count(scms, item)})\n",
    "sorted_singleItems = sorted(singleItems.items(), key=lambda x:x[1], reverse=True)"
   ]
  },
  {
   "cell_type": "code",
   "execution_count": 13,
   "id": "f247851b-b0ae-4ee0-a948-a4200ad3e009",
   "metadata": {},
   "outputs": [
    {
     "name": "stdout",
     "output_type": "stream",
     "text": [
      "('canned beer', 260) \n",
      "\n",
      "('soda', 156) \n",
      "\n",
      "('whole milk', 121) \n",
      "\n",
      "('bottled beer', 121) \n",
      "\n",
      "('rolls/buns', 109) \n",
      "\n"
     ]
    }
   ],
   "source": [
    "for item in sorted_singleItems[:5]:\n",
    "    print(item, '\\n')"
   ]
  },
  {
   "cell_type": "code",
   "execution_count": null,
   "id": "8e741cfa-bd8b-4dbc-8296-a59332d377d5",
   "metadata": {},
   "outputs": [],
   "source": []
  }
 ],
 "metadata": {
  "kernelspec": {
   "display_name": "Python 3 (ipykernel)",
   "language": "python",
   "name": "python3"
  },
  "language_info": {
   "codemirror_mode": {
    "name": "ipython",
    "version": 3
   },
   "file_extension": ".py",
   "mimetype": "text/x-python",
   "name": "python",
   "nbconvert_exporter": "python",
   "pygments_lexer": "ipython3",
   "version": "3.10.12"
  }
 },
 "nbformat": 4,
 "nbformat_minor": 5
}
