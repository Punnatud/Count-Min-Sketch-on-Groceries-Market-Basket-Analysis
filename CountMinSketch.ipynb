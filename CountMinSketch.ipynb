{
 "cells": [
  {
   "cell_type": "code",
   "execution_count": 1,
   "id": "05a72058-ff8a-4e18-aacc-47a3bb34bcef",
   "metadata": {},
   "outputs": [
    {
     "name": "stdout",
     "output_type": "stream",
     "text": [
      "Total no. of rows: 9836\n"
     ]
    }
   ],
   "source": [
    "import random\n",
    "import sympy\n",
    "import pandas as pd\n",
    "import numpy as np\n",
    "import csv\n",
    "\n",
    "rows=[]\n",
    "with open(\"./archive/groceries - groceries.csv\", 'r') as f:\n",
    "    csvreader = csv.reader(f)\n",
    "    fields = next(csvreader)\n",
    " \n",
    "    # extracting each data row one by one\n",
    "    for row in csvreader:\n",
    "        rows.append(row)\n",
    " \n",
    "    # get total number of rows\n",
    "    print(\"Total no. of rows: %d\"%(csvreader.line_num))"
   ]
  },
  {
   "cell_type": "code",
   "execution_count": 3,
   "id": "42c29045-f9c4-48f7-828d-9f5983221f0e",
   "metadata": {},
   "outputs": [],
   "source": [
    "# Get a random triple (p, a, b) where p is prime and a,b are numbers betweeen 2 and p-1\n",
    "def get_random_hash_function():\n",
    "    n = random.getrandbits(64)\n",
    "    if n < 0: \n",
    "        n = -n \n",
    "    if n % 2 == 0:\n",
    "        n = n + 1\n",
    "    while not sympy.isprime(n):\n",
    "        n = n + 1\n",
    "    a = random.randint(2, n-1)\n",
    "    b = random.randint(2, n-1)\n",
    "    return (n, a, b)\n",
    "# hash function for a number\n",
    "def hashfun(hfun_rep, num):\n",
    "    (p, a, b) = hfun_rep\n",
    "    return (a * num + b) % p\n",
    "# hash function for a string.\n",
    "def hash_string(hfun_rep, hstr):\n",
    "    n = hash(hstr)\n",
    "    return hashfun(hfun_rep, n)"
   ]
  },
  {
   "cell_type": "code",
   "execution_count": 4,
   "id": "def1af19-3471-4779-881a-a8dbd5857fc9",
   "metadata": {},
   "outputs": [],
   "source": [
    "# Class for implementing a count min sketch \"single bank\" of counters\n",
    "class CountMinSketch:\n",
    "    # Initialize with `num_counters`\n",
    "    def __init__ (self, num_counters):\n",
    "        self.m = num_counters\n",
    "        self.hash_fun_rep = get_random_hash_function()\n",
    "        self.counters = [0]*self.m\n",
    "    \n",
    "    # function: increment \n",
    "    # given a word, increment its count in the countmin sketch\n",
    "    def increment(self, word):\n",
    "        #\n",
    "        hWord = hash_string(self.hash_fun_rep, word)%self.m\n",
    "        self.counters[hWord] = self.counters[hWord] + 1\n",
    "        #return None\n",
    "        \n",
    "    # function: approximateCount\n",
    "    # Given a word, get its approximate count\n",
    "    def approximateCount(self, word):   \n",
    "        return self.counters[hash_string(self.hash_fun_rep, word)%self.m]"
   ]
  },
  {
   "cell_type": "code",
   "execution_count": 5,
   "id": "1215f7eb-ba45-453c-908b-743dc217f881",
   "metadata": {},
   "outputs": [],
   "source": [
    "# We will now implement the algorithm for a bank of k counters\n",
    "# Initialize k different counters\n",
    "def initialize_k_counters(k, m): \n",
    "    return [CountMinSketch(m) for i in range(k)]\n",
    "# Function increment_counters\n",
    "# increment each of the individual counters with the word\n",
    "def increment_counters(count_min_sketches, word):\n",
    "    for i in range(len(count_min_sketches)):\n",
    "        count_min_sketches[i].increment(word)\n",
    "    # your code here\n",
    "    \n",
    "        \n",
    "# Function: approximate_count\n",
    "# Get the approximate count by querying each counter bank and taking the minimum\n",
    "def approximate_count(count_min_sketches, word):\n",
    "    return min([cms.approximateCount(word) for cms in count_min_sketches])"
   ]
  },
  {
   "cell_type": "code",
   "execution_count": 6,
   "id": "4bd95cf5-9fb2-4d4d-9905-d5cc802fc35a",
   "metadata": {},
   "outputs": [
    {
     "name": "stdout",
     "output_type": "stream",
     "text": [
      "Field names are:Item(s), Item 1, Item 2, Item 3, Item 4, Item 5, Item 6, Item 7, Item 8, Item 9, Item 10, Item 11, Item 12, Item 13, Item 14, Item 15, Item 16, Item 17, Item 18, Item 19, Item 20, Item 21, Item 22, Item 23, Item 24, Item 25, Item 26, Item 27, Item 28, Item 29, Item 30, Item 31, Item 32\n",
      "\n",
      "First 5 rows are:\n",
      "\n",
      "         4 citrus fruit semi-finished bread  margarine ready soups                                                                                                                                                                                                                                                                                                                     \n",
      "\n",
      "         3 tropical fruit     yogurt     coffee                                                                                                                                                                                                                                                                                                                                \n",
      "\n",
      "         1 whole milk                                                                                                                                                                                                                                                                                                                                                      \n",
      "\n",
      "         4  pip fruit     yogurt cream cheese meat spreads                                                                                                                                                                                                                                                                                                                     \n",
      "\n",
      "         4 other vegetables whole milk condensed milk long life bakery product                                                                                                                                                                                                                                                                                                                     \n",
      "\n"
     ]
    }
   ],
   "source": [
    "print('Field names are:' + ', '.join(field for field in fields))\n",
    " \n",
    "# printing first 5 rows\n",
    "print('\\nFirst 5 rows are:\\n')\n",
    "for row in rows[:5]:\n",
    "    # parsing each column of a row\n",
    "    for col in row:\n",
    "        print(\"%10s\"%col,end=\" \"),\n",
    "    print('\\n')"
   ]
  },
  {
   "cell_type": "code",
   "execution_count": 24,
   "id": "71faefab-c49d-4946-b125-18e084e4a5ee",
   "metadata": {},
   "outputs": [
    {
     "name": "stdout",
     "output_type": "stream",
     "text": [
      "citrus fruit semi-finished bread margarine ready soups                             \n",
      "\n",
      "tropical fruit yogurt coffee                              \n",
      "\n",
      "whole milk                                \n",
      "\n",
      "pip fruit yogurt cream cheese meat spreads                             \n",
      "\n",
      "other vegetables whole milk condensed milk long life bakery product                             \n",
      "\n"
     ]
    }
   ],
   "source": [
    "for row in rows[:5]:\n",
    "    for col in row[1:]:\n",
    "        print(col, end=\" \")\n",
    "    print('\\n')"
   ]
  },
  {
   "cell_type": "code",
   "execution_count": 25,
   "id": "65825d64-7fe6-453e-b290-dff1d6f17b97",
   "metadata": {},
   "outputs": [],
   "source": [
    "cms = initialize_k_counters(5, 1000)\n",
    "uniqueItems = {}\n",
    "for row in rows:\n",
    "    for item in row[1:]:\n",
    "        if item != \"\":\n",
    "            uniqueItems.update({item : 0})\n",
    "            increment_counters(cms, item)"
   ]
  },
  {
   "cell_type": "code",
   "execution_count": 26,
   "id": "32039465-6241-4e40-817f-23bd7ee60175",
   "metadata": {},
   "outputs": [
    {
     "data": {
      "text/plain": [
       "169"
      ]
     },
     "execution_count": 26,
     "metadata": {},
     "output_type": "execute_result"
    }
   ],
   "source": [
    "len(uniqueItems)\n"
   ]
  },
  {
   "cell_type": "code",
   "execution_count": 28,
   "id": "67ec5105-2343-45eb-aa09-edea7919aad5",
   "metadata": {},
   "outputs": [
    {
     "name": "stdout",
     "output_type": "stream",
     "text": [
      "[('whole milk', 2513), ('other vegetables', 1903), ('rolls/buns', 1809), ('soda', 1715), ('yogurt', 1372), ('bottled water', 1087), ('root vegetables', 1072), ('tropical fruit', 1032), ('shopping bags', 969), ('sausage', 924), ('pastry', 875), ('citrus fruit', 814), ('bottled beer', 792), ('newspapers', 785), ('canned beer', 764), ('pip fruit', 744), ('fruit/vegetable juice', 711), ('whipped/sour cream', 705), ('brown bread', 638), ('domestic eggs', 624), ('frankfurter', 580), ('margarine', 576), ('coffee', 571), ('pork', 567), ('butter', 545), ('curd', 524), ('beef', 516), ('napkins', 515), ('chocolate', 488), ('frozen vegetables', 473), ('chicken', 422), ('white bread', 414), ('cream cheese', 390), ('waffles', 378), ('salty snack', 372), ('long life bakery product', 368), ('dessert', 365), ('sugar', 333), ('UHT-milk', 329), ('hamburger meat', 327), ('berries', 327), ('hygiene articles', 324), ('onions', 305), ('specialty chocolate', 299), ('candy', 294), ('misc. beverages', 279), ('frozen meals', 279), ('oil', 276), ('butter milk', 275), ('specialty bar', 269), ('beverages', 256), ('ham', 256), ('meat', 254), ('ice cream', 246), ('hard cheese', 241), ('sliced cheese', 241), ('cat food', 229), ('grapes', 220), ('chewing gum', 207), ('detergent', 189), ('red/blush wine', 189), ('white wine', 187), ('pickled vegetables', 176), ('semi-finished bread', 174), ('baking powder', 174), ('dishes', 173), ('flour', 171), ('potted plants', 170), ('soft cheese', 168), ('processed cheese', 163), ('herbs', 160), ('canned fish', 148), ('pasta', 148), ('seasonal products', 140), ('cake bar', 130), ('packaged fruit/vegetables', 128), ('mustard', 118), ('frozen fish', 115), ('cling film/bags', 112), ('spread cheese', 110), ('liquor', 109), ('frozen dessert', 106), ('salt', 106), ('canned vegetables', 106), ('dish cleaner', 103), ('flower (seeds)', 102), ('condensed milk', 101), ('roll products', 101), ('pet care', 93), ('photo/film', 91), ('mayonnaise', 90), ('sweet spreads', 89), ('chocolate marshmallow', 89), ('candles', 88), ('specialty cheese', 84), ('dog food', 84), ('frozen potato products', 83), ('house keeping products', 82), ('turkey', 80), ('Instant food products', 79), ('liquor (appetizer)', 78), ('rice', 75), ('instant coffee', 73), ('popcorn', 71), ('zwieback', 68), ('soups', 67), ('finished products', 64), ('vinegar', 64), ('female sanitary products', 60), ('kitchen towels', 59), ('dental care', 57), ('cereals', 56), ('sparkling wine', 55), ('softener', 54), ('sauces', 54), ('jam', 53), ('spices', 51), ('curd cheese', 50), ('cleaner', 50), ('liver loaf', 50), ('male cosmetics', 45), ('rum', 44), ('meat spreads', 42), ('ketchup', 42), ('brandy', 41), ('light bulbs', 41), ('tea', 38), ('specialty fat', 36), ('abrasive cleaner', 35), ('skin care', 35), ('nuts/prunes', 33), ('artif. sweetener', 32), ('canned fruit', 32), ('syrup', 32), ('nut snack', 31), ('snack products', 30), ('fish', 29), ('potato products', 28), ('bathroom cleaner', 27), ('cookware', 27), ('soap', 26), ('cooking chocolate', 25), ('pudding powder', 23), ('tidbits', 23), ('cocoa drinks', 22), ('organic sausage', 22), ('prosecco', 20), ('flower soil/fertilizer', 19), ('ready soups', 18), ('specialty vegetables', 17), ('organic products', 16), ('honey', 15), ('decalcifier', 15), ('cream', 13), ('frozen fruits', 12), ('hair spray', 11), ('rubbing alcohol', 10), ('liqueur', 9), ('make up remover', 8), ('salad dressing', 8), ('whisky', 8), ('toilet cleaner', 7), ('baby cosmetics', 6), ('frozen chicken', 6), ('bags', 4), ('kitchen utensil', 4), ('preservation products', 2), ('baby food', 1), ('sound storage medium', 1)]\n"
     ]
    }
   ],
   "source": [
    "for item in uniqueItems:\n",
    "    uniqueItems.update({item:approximate_count(cms, item)})\n",
    "sorted_uniqueItems = sorted(uniqueItems.items(), key=lambda x:x[1], reverse=True)\n",
    "print(sorted_uniqueItems)"
   ]
  },
  {
   "cell_type": "code",
   "execution_count": null,
   "id": "4adc236d-7c36-4557-bda9-c09ab2170b23",
   "metadata": {},
   "outputs": [],
   "source": []
  }
 ],
 "metadata": {
  "kernelspec": {
   "display_name": "Python 3 (ipykernel)",
   "language": "python",
   "name": "python3"
  },
  "language_info": {
   "codemirror_mode": {
    "name": "ipython",
    "version": 3
   },
   "file_extension": ".py",
   "mimetype": "text/x-python",
   "name": "python",
   "nbconvert_exporter": "python",
   "pygments_lexer": "ipython3",
   "version": "3.10.12"
  }
 },
 "nbformat": 4,
 "nbformat_minor": 5
}
